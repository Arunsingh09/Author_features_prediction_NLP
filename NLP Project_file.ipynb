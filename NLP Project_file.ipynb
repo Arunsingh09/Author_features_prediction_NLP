{
 "cells": [
  {
   "cell_type": "markdown",
   "id": "b17925b4",
   "metadata": {},
   "source": [
    "# NLP Project"
   ]
  },
  {
   "cell_type": "markdown",
   "id": "15edfc66",
   "metadata": {},
   "source": [
    "# Author Features Prediction"
   ]
  },
  {
   "cell_type": "markdown",
   "id": "610415c2",
   "metadata": {},
   "source": [
    "## Description\n",
    "Classification is probably the most popular task that you would deal with in real life.\n",
    "\n",
    "Text in the form of blogs, posts, articles, etc. is written every second. It is a challenge to predict the information \n",
    "about the writer without knowing about him/her. \n",
    "\n",
    "We are going to create a classifier that predicts multiple features of the author of a given text.\n",
    "\n",
    "We have designed it as a Multilabel classification problem"
   ]
  },
  {
   "cell_type": "markdown",
   "id": "edd82b2f",
   "metadata": {},
   "source": [
    "## Dataset\n",
    "\n",
    "Blog Authorship Corpus\n",
    "Over 600,000 posts from more than 19 thousand bloggers\n",
    "\n",
    "The Blog Authorship Corpus consists of the collected posts of 19,320 bloggers gathered from blogger.com in \n",
    "August 2004. The corpus incorporates a total of 681,288 posts and over 140 million words - or approximately \n",
    "35 posts and 7250 words per person.\n",
    "\n",
    "Each blog is presented as a separate file, the name of which indicates a blogger id and the blogger’s self - provided gender, age, industry, and astrological sign. (All are labelled for gender and age but for many, industry \n",
    "and/or sign is marked as unknown.)\n",
    "\n",
    "All bloggers included in the corpus fall into one of three age groups:\n",
    "\n",
    "8240 \"10s\" blogs (ages 13-17)\n",
    "\n",
    "8086 \"20s\" blogs(ages 23-27)\n",
    "\n",
    "2994 \"30s\" blogs (ages 33-47)\n",
    "\n",
    "For each age group, there is an equal number of male and female bloggers.\n",
    "\n",
    "Each blog in the corpus includes at least 200 occurrences of common English words. All formatting has been \n",
    "stripped with two exceptions. Individual posts within a single blogger are separated by the date of the following \n",
    "post and links within a post are denoted by the label urllink.\n"
   ]
  },
  {
   "cell_type": "markdown",
   "id": "563f5d22",
   "metadata": {},
   "source": [
    "## 1. Load the dataset "
   ]
  },
  {
   "cell_type": "code",
   "execution_count": 1,
   "id": "70236ab7",
   "metadata": {},
   "outputs": [],
   "source": [
    "import pandas as pd\n",
    "import numpy as np\n",
    "import matplotlib.pyplot as plt\n",
    "import re\n",
    "import nltk\n",
    "from nltk.corpus import stopwords\n",
    "from warnings import filterwarnings\n",
    "filterwarnings('ignore')\n",
    "from sklearn.model_selection import train_test_split\n",
    "from sklearn.feature_extraction.text import CountVectorizer\n",
    "from sklearn.preprocessing import MultiLabelBinarizer\n",
    "from sklearn.multiclass import OneVsRestClassifier\n",
    "from sklearn.linear_model import LogisticRegression\n",
    "from sklearn.metrics import accuracy_score\n",
    "from sklearn.metrics import f1_score\n",
    "from sklearn.metrics import average_precision_score\n",
    "from sklearn.metrics import recall_score"
   ]
  },
  {
   "cell_type": "code",
   "execution_count": 2,
   "id": "650bf842",
   "metadata": {},
   "outputs": [
    {
     "data": {
      "text/html": [
       "<div>\n",
       "<style scoped>\n",
       "    .dataframe tbody tr th:only-of-type {\n",
       "        vertical-align: middle;\n",
       "    }\n",
       "\n",
       "    .dataframe tbody tr th {\n",
       "        vertical-align: top;\n",
       "    }\n",
       "\n",
       "    .dataframe thead th {\n",
       "        text-align: right;\n",
       "    }\n",
       "</style>\n",
       "<table border=\"1\" class=\"dataframe\">\n",
       "  <thead>\n",
       "    <tr style=\"text-align: right;\">\n",
       "      <th></th>\n",
       "      <th>id</th>\n",
       "      <th>gender</th>\n",
       "      <th>age</th>\n",
       "      <th>topic</th>\n",
       "      <th>sign</th>\n",
       "      <th>date</th>\n",
       "      <th>text</th>\n",
       "    </tr>\n",
       "  </thead>\n",
       "  <tbody>\n",
       "    <tr>\n",
       "      <th>0</th>\n",
       "      <td>2059027</td>\n",
       "      <td>male</td>\n",
       "      <td>15</td>\n",
       "      <td>Student</td>\n",
       "      <td>Leo</td>\n",
       "      <td>14,May,2004</td>\n",
       "      <td>Info has been found (+/- 100 pages,...</td>\n",
       "    </tr>\n",
       "    <tr>\n",
       "      <th>1</th>\n",
       "      <td>2059027</td>\n",
       "      <td>male</td>\n",
       "      <td>15</td>\n",
       "      <td>Student</td>\n",
       "      <td>Leo</td>\n",
       "      <td>13,May,2004</td>\n",
       "      <td>These are the team members:   Drewe...</td>\n",
       "    </tr>\n",
       "    <tr>\n",
       "      <th>2</th>\n",
       "      <td>2059027</td>\n",
       "      <td>male</td>\n",
       "      <td>15</td>\n",
       "      <td>Student</td>\n",
       "      <td>Leo</td>\n",
       "      <td>12,May,2004</td>\n",
       "      <td>In het kader van kernfusie op aarde...</td>\n",
       "    </tr>\n",
       "    <tr>\n",
       "      <th>3</th>\n",
       "      <td>2059027</td>\n",
       "      <td>male</td>\n",
       "      <td>15</td>\n",
       "      <td>Student</td>\n",
       "      <td>Leo</td>\n",
       "      <td>12,May,2004</td>\n",
       "      <td>testing!!!  testing!!!</td>\n",
       "    </tr>\n",
       "    <tr>\n",
       "      <th>4</th>\n",
       "      <td>3581210</td>\n",
       "      <td>male</td>\n",
       "      <td>33</td>\n",
       "      <td>InvestmentBanking</td>\n",
       "      <td>Aquarius</td>\n",
       "      <td>11,June,2004</td>\n",
       "      <td>Thanks to Yahoo!'s Toolbar I can ...</td>\n",
       "    </tr>\n",
       "  </tbody>\n",
       "</table>\n",
       "</div>"
      ],
      "text/plain": [
       "        id gender  age              topic      sign          date  \\\n",
       "0  2059027   male   15            Student       Leo   14,May,2004   \n",
       "1  2059027   male   15            Student       Leo   13,May,2004   \n",
       "2  2059027   male   15            Student       Leo   12,May,2004   \n",
       "3  2059027   male   15            Student       Leo   12,May,2004   \n",
       "4  3581210   male   33  InvestmentBanking  Aquarius  11,June,2004   \n",
       "\n",
       "                                                text  \n",
       "0             Info has been found (+/- 100 pages,...  \n",
       "1             These are the team members:   Drewe...  \n",
       "2             In het kader van kernfusie op aarde...  \n",
       "3                   testing!!!  testing!!!            \n",
       "4               Thanks to Yahoo!'s Toolbar I can ...  "
      ]
     },
     "execution_count": 2,
     "metadata": {},
     "output_type": "execute_result"
    }
   ],
   "source": [
    "df = pd.read_csv('blogtext.csv')\n",
    "df.head()"
   ]
  },
  {
   "cell_type": "code",
   "execution_count": 3,
   "id": "6bf3b605",
   "metadata": {},
   "outputs": [
    {
     "data": {
      "text/plain": [
       "Index(['id', 'gender', 'age', 'topic', 'sign', 'date', 'text'], dtype='object')"
      ]
     },
     "execution_count": 3,
     "metadata": {},
     "output_type": "execute_result"
    }
   ],
   "source": [
    "df.columns"
   ]
  },
  {
   "cell_type": "markdown",
   "id": "d82de980",
   "metadata": {},
   "source": [
    "#### Checking Dimension"
   ]
  },
  {
   "cell_type": "code",
   "execution_count": 4,
   "id": "77de7a5a",
   "metadata": {},
   "outputs": [
    {
     "data": {
      "text/plain": [
       "(681284, 7)"
      ]
     },
     "execution_count": 4,
     "metadata": {},
     "output_type": "execute_result"
    }
   ],
   "source": [
    "df.shape"
   ]
  },
  {
   "cell_type": "markdown",
   "id": "e92fe846",
   "metadata": {},
   "source": [
    "#### Checking for null values"
   ]
  },
  {
   "cell_type": "code",
   "execution_count": 5,
   "id": "f4ca435e",
   "metadata": {},
   "outputs": [
    {
     "data": {
      "text/html": [
       "<div>\n",
       "<style scoped>\n",
       "    .dataframe tbody tr th:only-of-type {\n",
       "        vertical-align: middle;\n",
       "    }\n",
       "\n",
       "    .dataframe tbody tr th {\n",
       "        vertical-align: top;\n",
       "    }\n",
       "\n",
       "    .dataframe thead th {\n",
       "        text-align: right;\n",
       "    }\n",
       "</style>\n",
       "<table border=\"1\" class=\"dataframe\">\n",
       "  <thead>\n",
       "    <tr style=\"text-align: right;\">\n",
       "      <th></th>\n",
       "      <th>Total</th>\n",
       "      <th>Percentage of Missing Values</th>\n",
       "    </tr>\n",
       "  </thead>\n",
       "  <tbody>\n",
       "    <tr>\n",
       "      <th>text</th>\n",
       "      <td>0</td>\n",
       "      <td>0.0</td>\n",
       "    </tr>\n",
       "    <tr>\n",
       "      <th>date</th>\n",
       "      <td>0</td>\n",
       "      <td>0.0</td>\n",
       "    </tr>\n",
       "    <tr>\n",
       "      <th>sign</th>\n",
       "      <td>0</td>\n",
       "      <td>0.0</td>\n",
       "    </tr>\n",
       "    <tr>\n",
       "      <th>topic</th>\n",
       "      <td>0</td>\n",
       "      <td>0.0</td>\n",
       "    </tr>\n",
       "    <tr>\n",
       "      <th>age</th>\n",
       "      <td>0</td>\n",
       "      <td>0.0</td>\n",
       "    </tr>\n",
       "    <tr>\n",
       "      <th>gender</th>\n",
       "      <td>0</td>\n",
       "      <td>0.0</td>\n",
       "    </tr>\n",
       "    <tr>\n",
       "      <th>id</th>\n",
       "      <td>0</td>\n",
       "      <td>0.0</td>\n",
       "    </tr>\n",
       "  </tbody>\n",
       "</table>\n",
       "</div>"
      ],
      "text/plain": [
       "        Total  Percentage of Missing Values\n",
       "text        0                           0.0\n",
       "date        0                           0.0\n",
       "sign        0                           0.0\n",
       "topic       0                           0.0\n",
       "age         0                           0.0\n",
       "gender      0                           0.0\n",
       "id          0                           0.0"
      ]
     },
     "execution_count": 5,
     "metadata": {},
     "output_type": "execute_result"
    }
   ],
   "source": [
    "Total = df.isnull().sum().sort_values(ascending=False)  \n",
    "Percent = (df.isnull().sum()*100/df.isnull().count()).sort_values(ascending=False)\n",
    "missing_data = pd.concat([Total, Percent], axis = 1, keys = ['Total', 'Percentage of Missing Values'])    \n",
    "missing_data"
   ]
  },
  {
   "cell_type": "markdown",
   "id": "392666f4",
   "metadata": {},
   "source": [
    "There are no missing values in the data."
   ]
  },
  {
   "cell_type": "markdown",
   "id": "8aa15697",
   "metadata": {},
   "source": [
    "##### As mentioned in the problem statement: \"As the dataset is large, use fewer rows. Check what is working well on your machine and decide accordingly\" I have decided to take first 6000 rows for the further analysis. "
   ]
  },
  {
   "cell_type": "code",
   "execution_count": 6,
   "id": "c3219bf3",
   "metadata": {},
   "outputs": [],
   "source": [
    "df = df.head(3500)"
   ]
  },
  {
   "cell_type": "markdown",
   "id": "0414fd70",
   "metadata": {},
   "source": [
    "## 2. Preprocess rows of the “text” column"
   ]
  },
  {
   "cell_type": "markdown",
   "id": "1ecde596",
   "metadata": {},
   "source": [
    "- Remove unwanted characters\n",
    "- Convert text to lowercase\n",
    "- Remove unwanted spaces\n",
    "- Remove stopwords"
   ]
  },
  {
   "cell_type": "code",
   "execution_count": 7,
   "id": "a04902a4",
   "metadata": {},
   "outputs": [],
   "source": [
    "df.text = df.text.apply(lambda x: re.sub('[^A-Za-z]+', ' ', x))\n",
    "df.text = df.text.apply(lambda x: x.lower())\n",
    "df.text = df.text.apply(lambda x: x.strip())"
   ]
  },
  {
   "cell_type": "code",
   "execution_count": 8,
   "id": "2c758d4b",
   "metadata": {},
   "outputs": [
    {
     "name": "stderr",
     "output_type": "stream",
     "text": [
      "[nltk_data] Downloading package stopwords to\n",
      "[nltk_data]     C:\\Users\\HP\\AppData\\Roaming\\nltk_data...\n",
      "[nltk_data]   Unzipping corpora\\stopwords.zip.\n"
     ]
    }
   ],
   "source": [
    "nltk.download('stopwords')\n",
    "stopwords = set(stopwords.words('english'))\n",
    "df.text = df.text.apply(lambda x: ' '.join([word for word in x.split() if word not in stopwords]))"
   ]
  },
  {
   "cell_type": "markdown",
   "id": "52e9727b",
   "metadata": {},
   "source": [
    "Lets verify the preprocessing steps by looking over some values."
   ]
  },
  {
   "cell_type": "code",
   "execution_count": 9,
   "id": "27b188ba",
   "metadata": {},
   "outputs": [
    {
     "data": {
      "text/plain": [
       "'testing testing'"
      ]
     },
     "execution_count": 9,
     "metadata": {},
     "output_type": "execute_result"
    }
   ],
   "source": [
    "df.text[3]"
   ]
  },
  {
   "cell_type": "markdown",
   "id": "8b867041",
   "metadata": {},
   "source": [
    "# 3. Merge the label columns"
   ]
  },
  {
   "cell_type": "markdown",
   "id": "6163cd64",
   "metadata": {},
   "source": [
    "#### a. Label columns to merge: “gender”, “age”, “topic”, “sign”"
   ]
  },
  {
   "cell_type": "code",
   "execution_count": 10,
   "id": "a846053f",
   "metadata": {},
   "outputs": [],
   "source": [
    "df['labels'] = df.apply(lambda row: [row['gender'], str(row['age']), row['topic'], row['sign']], axis=1)"
   ]
  },
  {
   "cell_type": "markdown",
   "id": "5586f752",
   "metadata": {},
   "source": [
    "#### b. After completing the previous step, there should be only two columns in your data frame i.e. “text” and “labels” as shown in the below image"
   ]
  },
  {
   "cell_type": "code",
   "execution_count": 11,
   "id": "b3daede4",
   "metadata": {},
   "outputs": [
    {
     "data": {
      "text/html": [
       "<div>\n",
       "<style scoped>\n",
       "    .dataframe tbody tr th:only-of-type {\n",
       "        vertical-align: middle;\n",
       "    }\n",
       "\n",
       "    .dataframe tbody tr th {\n",
       "        vertical-align: top;\n",
       "    }\n",
       "\n",
       "    .dataframe thead th {\n",
       "        text-align: right;\n",
       "    }\n",
       "</style>\n",
       "<table border=\"1\" class=\"dataframe\">\n",
       "  <thead>\n",
       "    <tr style=\"text-align: right;\">\n",
       "      <th></th>\n",
       "      <th>id</th>\n",
       "      <th>gender</th>\n",
       "      <th>age</th>\n",
       "      <th>topic</th>\n",
       "      <th>sign</th>\n",
       "      <th>date</th>\n",
       "      <th>text</th>\n",
       "      <th>labels</th>\n",
       "    </tr>\n",
       "  </thead>\n",
       "  <tbody>\n",
       "    <tr>\n",
       "      <th>0</th>\n",
       "      <td>2059027</td>\n",
       "      <td>male</td>\n",
       "      <td>15</td>\n",
       "      <td>Student</td>\n",
       "      <td>Leo</td>\n",
       "      <td>14,May,2004</td>\n",
       "      <td>info found pages mb pdf files wait untill team...</td>\n",
       "      <td>[male, 15, Student, Leo]</td>\n",
       "    </tr>\n",
       "    <tr>\n",
       "      <th>1</th>\n",
       "      <td>2059027</td>\n",
       "      <td>male</td>\n",
       "      <td>15</td>\n",
       "      <td>Student</td>\n",
       "      <td>Leo</td>\n",
       "      <td>13,May,2004</td>\n",
       "      <td>team members drewes van der laag urllink mail ...</td>\n",
       "      <td>[male, 15, Student, Leo]</td>\n",
       "    </tr>\n",
       "    <tr>\n",
       "      <th>2</th>\n",
       "      <td>2059027</td>\n",
       "      <td>male</td>\n",
       "      <td>15</td>\n",
       "      <td>Student</td>\n",
       "      <td>Leo</td>\n",
       "      <td>12,May,2004</td>\n",
       "      <td>het kader van kernfusie op aarde maak je eigen...</td>\n",
       "      <td>[male, 15, Student, Leo]</td>\n",
       "    </tr>\n",
       "    <tr>\n",
       "      <th>3</th>\n",
       "      <td>2059027</td>\n",
       "      <td>male</td>\n",
       "      <td>15</td>\n",
       "      <td>Student</td>\n",
       "      <td>Leo</td>\n",
       "      <td>12,May,2004</td>\n",
       "      <td>testing testing</td>\n",
       "      <td>[male, 15, Student, Leo]</td>\n",
       "    </tr>\n",
       "    <tr>\n",
       "      <th>4</th>\n",
       "      <td>3581210</td>\n",
       "      <td>male</td>\n",
       "      <td>33</td>\n",
       "      <td>InvestmentBanking</td>\n",
       "      <td>Aquarius</td>\n",
       "      <td>11,June,2004</td>\n",
       "      <td>thanks yahoo toolbar capture urls popups means...</td>\n",
       "      <td>[male, 33, InvestmentBanking, Aquarius]</td>\n",
       "    </tr>\n",
       "  </tbody>\n",
       "</table>\n",
       "</div>"
      ],
      "text/plain": [
       "        id gender  age              topic      sign          date  \\\n",
       "0  2059027   male   15            Student       Leo   14,May,2004   \n",
       "1  2059027   male   15            Student       Leo   13,May,2004   \n",
       "2  2059027   male   15            Student       Leo   12,May,2004   \n",
       "3  2059027   male   15            Student       Leo   12,May,2004   \n",
       "4  3581210   male   33  InvestmentBanking  Aquarius  11,June,2004   \n",
       "\n",
       "                                                text  \\\n",
       "0  info found pages mb pdf files wait untill team...   \n",
       "1  team members drewes van der laag urllink mail ...   \n",
       "2  het kader van kernfusie op aarde maak je eigen...   \n",
       "3                                    testing testing   \n",
       "4  thanks yahoo toolbar capture urls popups means...   \n",
       "\n",
       "                                    labels  \n",
       "0                 [male, 15, Student, Leo]  \n",
       "1                 [male, 15, Student, Leo]  \n",
       "2                 [male, 15, Student, Leo]  \n",
       "3                 [male, 15, Student, Leo]  \n",
       "4  [male, 33, InvestmentBanking, Aquarius]  "
      ]
     },
     "execution_count": 11,
     "metadata": {},
     "output_type": "execute_result"
    }
   ],
   "source": [
    "df.head()"
   ]
  },
  {
   "cell_type": "markdown",
   "id": "f1010503",
   "metadata": {},
   "source": [
    "## 4. Separate features and labels, and split the data into training and testing "
   ]
  },
  {
   "cell_type": "code",
   "execution_count": 12,
   "id": "8f26fd07",
   "metadata": {},
   "outputs": [],
   "source": [
    "df = df[['text','labels']]"
   ]
  },
  {
   "cell_type": "code",
   "execution_count": 13,
   "id": "07e20473",
   "metadata": {},
   "outputs": [
    {
     "data": {
      "text/html": [
       "<div>\n",
       "<style scoped>\n",
       "    .dataframe tbody tr th:only-of-type {\n",
       "        vertical-align: middle;\n",
       "    }\n",
       "\n",
       "    .dataframe tbody tr th {\n",
       "        vertical-align: top;\n",
       "    }\n",
       "\n",
       "    .dataframe thead th {\n",
       "        text-align: right;\n",
       "    }\n",
       "</style>\n",
       "<table border=\"1\" class=\"dataframe\">\n",
       "  <thead>\n",
       "    <tr style=\"text-align: right;\">\n",
       "      <th></th>\n",
       "      <th>text</th>\n",
       "      <th>labels</th>\n",
       "    </tr>\n",
       "  </thead>\n",
       "  <tbody>\n",
       "    <tr>\n",
       "      <th>0</th>\n",
       "      <td>info found pages mb pdf files wait untill team...</td>\n",
       "      <td>[male, 15, Student, Leo]</td>\n",
       "    </tr>\n",
       "    <tr>\n",
       "      <th>1</th>\n",
       "      <td>team members drewes van der laag urllink mail ...</td>\n",
       "      <td>[male, 15, Student, Leo]</td>\n",
       "    </tr>\n",
       "    <tr>\n",
       "      <th>2</th>\n",
       "      <td>het kader van kernfusie op aarde maak je eigen...</td>\n",
       "      <td>[male, 15, Student, Leo]</td>\n",
       "    </tr>\n",
       "    <tr>\n",
       "      <th>3</th>\n",
       "      <td>testing testing</td>\n",
       "      <td>[male, 15, Student, Leo]</td>\n",
       "    </tr>\n",
       "    <tr>\n",
       "      <th>4</th>\n",
       "      <td>thanks yahoo toolbar capture urls popups means...</td>\n",
       "      <td>[male, 33, InvestmentBanking, Aquarius]</td>\n",
       "    </tr>\n",
       "  </tbody>\n",
       "</table>\n",
       "</div>"
      ],
      "text/plain": [
       "                                                text  \\\n",
       "0  info found pages mb pdf files wait untill team...   \n",
       "1  team members drewes van der laag urllink mail ...   \n",
       "2  het kader van kernfusie op aarde maak je eigen...   \n",
       "3                                    testing testing   \n",
       "4  thanks yahoo toolbar capture urls popups means...   \n",
       "\n",
       "                                    labels  \n",
       "0                 [male, 15, Student, Leo]  \n",
       "1                 [male, 15, Student, Leo]  \n",
       "2                 [male, 15, Student, Leo]  \n",
       "3                 [male, 15, Student, Leo]  \n",
       "4  [male, 33, InvestmentBanking, Aquarius]  "
      ]
     },
     "execution_count": 13,
     "metadata": {},
     "output_type": "execute_result"
    }
   ],
   "source": [
    "df.head()"
   ]
  },
  {
   "cell_type": "markdown",
   "id": "71070bbc",
   "metadata": {},
   "source": [
    "### Train_test_split"
   ]
  },
  {
   "cell_type": "code",
   "execution_count": 14,
   "id": "a1b2f8ca",
   "metadata": {},
   "outputs": [],
   "source": [
    "X = df.text.values\n",
    "y = df.labels.values"
   ]
  },
  {
   "cell_type": "code",
   "execution_count": 15,
   "id": "479e5ee2",
   "metadata": {},
   "outputs": [],
   "source": [
    "X_train, X_test, y_train, y_test = train_test_split(X, y, test_size=0.2, random_state=5)"
   ]
  },
  {
   "cell_type": "code",
   "execution_count": 16,
   "id": "587f65ee",
   "metadata": {},
   "outputs": [
    {
     "name": "stdout",
     "output_type": "stream",
     "text": [
      "X_train shape: (2800,)\n",
      "X_test shape: (700,)\n",
      "y_train shape: (2800,)\n",
      "y_test shape: (700,)\n"
     ]
    }
   ],
   "source": [
    "print('X_train shape:', X_train.shape)\n",
    "print('X_test shape:', X_test.shape)\n",
    "print('y_train shape:', y_train.shape)\n",
    "print('y_test shape:', y_test.shape)"
   ]
  },
  {
   "cell_type": "markdown",
   "id": "a8819773",
   "metadata": {},
   "source": [
    "## 5. Vectorize the features"
   ]
  },
  {
   "cell_type": "markdown",
   "id": "bed96164",
   "metadata": {},
   "source": [
    "### a. Create Bag of Words\n",
    "- Use CountVectorizer\n",
    "- Transform the training and testing data"
   ]
  },
  {
   "cell_type": "code",
   "execution_count": 17,
   "id": "7206309e",
   "metadata": {},
   "outputs": [],
   "source": [
    "vectorizer = CountVectorizer(binary=True, ngram_range=(1, 2))\n",
    "X_train_cv = vectorizer.fit_transform(X_train)\n",
    "X_test_cv = vectorizer.transform(X_test)"
   ]
  },
  {
   "cell_type": "code",
   "execution_count": 18,
   "id": "11c65640",
   "metadata": {},
   "outputs": [
    {
     "data": {
      "text/plain": [
       "<2800x193863 sparse matrix of type '<class 'numpy.int64'>'\n",
       "\twith 355425 stored elements in Compressed Sparse Row format>"
      ]
     },
     "execution_count": 18,
     "metadata": {},
     "output_type": "execute_result"
    }
   ],
   "source": [
    "X_train_cv"
   ]
  },
  {
   "cell_type": "code",
   "execution_count": 19,
   "id": "4117734f",
   "metadata": {},
   "outputs": [
    {
     "data": {
      "text/plain": [
       "['aa', 'aa anger', 'aaa', 'aaa travel', 'aaaaaaaaah']"
      ]
     },
     "execution_count": 19,
     "metadata": {},
     "output_type": "execute_result"
    }
   ],
   "source": [
    "vectorizer.get_feature_names()[:5]"
   ]
  },
  {
   "cell_type": "markdown",
   "id": "c4d38ac9",
   "metadata": {},
   "source": [
    "#### b. Print the term-document matrix"
   ]
  },
  {
   "cell_type": "code",
   "execution_count": 20,
   "id": "5df4217f",
   "metadata": {},
   "outputs": [
    {
     "data": {
      "text/plain": [
       "array([[0, 0, 0, ..., 0, 0, 0],\n",
       "       [0, 0, 0, ..., 0, 0, 0],\n",
       "       [0, 0, 0, ..., 0, 0, 0],\n",
       "       ...,\n",
       "       [0, 0, 0, ..., 0, 0, 0],\n",
       "       [0, 0, 0, ..., 0, 0, 0],\n",
       "       [0, 0, 0, ..., 0, 0, 0]], dtype=int64)"
      ]
     },
     "execution_count": 20,
     "metadata": {},
     "output_type": "execute_result"
    }
   ],
   "source": [
    "X_train_cv.toarray()"
   ]
  },
  {
   "cell_type": "markdown",
   "id": "55721b8f",
   "metadata": {},
   "source": [
    "## 6. Create a dictionary to get the count of every label "
   ]
  },
  {
   "cell_type": "code",
   "execution_count": 21,
   "id": "f8fc5ba1",
   "metadata": {},
   "outputs": [],
   "source": [
    "label_counts = dict()\n",
    "\n",
    "for labels in df.labels.values:\n",
    "    for label in labels:\n",
    "        if label in label_counts:\n",
    "            label_counts[label] += 1\n",
    "        else:\n",
    "            label_counts[label] = 1"
   ]
  },
  {
   "cell_type": "code",
   "execution_count": 22,
   "id": "50a63d19",
   "metadata": {},
   "outputs": [
    {
     "data": {
      "text/plain": [
       "{'male': 2772,\n",
       " '15': 299,\n",
       " 'Student': 403,\n",
       " 'Leo': 55,\n",
       " '33': 94,\n",
       " 'InvestmentBanking': 70,\n",
       " 'Aquarius': 286,\n",
       " 'female': 728,\n",
       " '14': 74,\n",
       " 'indUnk': 452,\n",
       " 'Aries': 2199,\n",
       " '25': 110,\n",
       " 'Capricorn': 77,\n",
       " '17': 147,\n",
       " 'Gemini': 21,\n",
       " '23': 93,\n",
       " 'Non-Profit': 46,\n",
       " 'Cancer': 76,\n",
       " 'Banking': 16,\n",
       " '37': 19,\n",
       " 'Sagittarius': 113,\n",
       " '26': 43,\n",
       " '24': 334,\n",
       " 'Scorpio': 243,\n",
       " '27': 86,\n",
       " 'Education': 118,\n",
       " '45': 14,\n",
       " 'Engineering': 119,\n",
       " 'Libra': 313,\n",
       " 'Science': 33,\n",
       " '34': 6,\n",
       " '41': 14,\n",
       " 'Communications-Media': 14,\n",
       " 'BusinessServices': 21,\n",
       " 'Sports-Recreation': 75,\n",
       " 'Virgo': 39,\n",
       " 'Taurus': 76,\n",
       " 'Arts': 2,\n",
       " 'Pisces': 2,\n",
       " '44': 3,\n",
       " '16': 25,\n",
       " 'Internet': 20,\n",
       " 'Museums-Libraries': 2,\n",
       " 'Accounting': 2,\n",
       " '39': 32,\n",
       " '35': 2107,\n",
       " 'Technology': 2107}"
      ]
     },
     "execution_count": 22,
     "metadata": {},
     "output_type": "execute_result"
    }
   ],
   "source": [
    "label_counts"
   ]
  },
  {
   "cell_type": "markdown",
   "id": "e849b488",
   "metadata": {},
   "source": [
    "## 7. Convert your train and test labels using MultiLabelBinarizer"
   ]
  },
  {
   "cell_type": "code",
   "execution_count": 23,
   "id": "a23ab1b9",
   "metadata": {},
   "outputs": [],
   "source": [
    "mlb = MultiLabelBinarizer(classes=sorted(label_counts.keys()))\n",
    "y_train = mlb.fit_transform(y_train)\n",
    "y_test = mlb.transform(y_test)"
   ]
  },
  {
   "cell_type": "code",
   "execution_count": 24,
   "id": "f6df8877",
   "metadata": {},
   "outputs": [
    {
     "data": {
      "text/plain": [
       "array([[0, 0, 0, ..., 0, 0, 1],\n",
       "       [0, 0, 0, ..., 0, 0, 1],\n",
       "       [0, 0, 0, ..., 0, 0, 1],\n",
       "       ...,\n",
       "       [0, 1, 0, ..., 1, 0, 0],\n",
       "       [0, 1, 0, ..., 1, 0, 0],\n",
       "       [0, 0, 0, ..., 0, 0, 1]])"
      ]
     },
     "execution_count": 24,
     "metadata": {},
     "output_type": "execute_result"
    }
   ],
   "source": [
    "y_test"
   ]
  },
  {
   "cell_type": "markdown",
   "id": "7419c7b6",
   "metadata": {},
   "source": [
    "## 8. Choose a classifier "
   ]
  },
  {
   "cell_type": "markdown",
   "id": "fbc42515",
   "metadata": {},
   "source": [
    "Use a linear classifier, wrap it up in OneVsRestClassifier to train it on every label."
   ]
  },
  {
   "cell_type": "code",
   "execution_count": 25,
   "id": "d44bdf30",
   "metadata": {},
   "outputs": [],
   "source": [
    "clf = LogisticRegression(solver='lbfgs')\n",
    "clf = OneVsRestClassifier(clf)"
   ]
  },
  {
   "cell_type": "markdown",
   "id": "b07a9d6a",
   "metadata": {},
   "source": [
    "### 9. Fit the classifier, make predictions and get the accuracy"
   ]
  },
  {
   "cell_type": "code",
   "execution_count": 26,
   "id": "f619cfc4",
   "metadata": {},
   "outputs": [
    {
     "data": {
      "text/plain": [
       "OneVsRestClassifier(estimator=LogisticRegression())"
      ]
     },
     "execution_count": 26,
     "metadata": {},
     "output_type": "execute_result"
    }
   ],
   "source": [
    "clf.fit(X_train_cv, y_train)"
   ]
  },
  {
   "cell_type": "markdown",
   "id": "a861ddf9",
   "metadata": {},
   "source": [
    "### Predictions\n",
    "- Get predicted labels and scores"
   ]
  },
  {
   "cell_type": "code",
   "execution_count": 27,
   "id": "7f17d6e5",
   "metadata": {},
   "outputs": [],
   "source": [
    "predicted_labels = clf.predict(X_test_cv)\n",
    "predicted_scores = clf.decision_function(X_test_cv)"
   ]
  },
  {
   "cell_type": "code",
   "execution_count": 28,
   "id": "ea0004ac",
   "metadata": {},
   "outputs": [
    {
     "data": {
      "text/plain": [
       "array([[0, 0, 0, ..., 0, 0, 1],\n",
       "       [0, 0, 0, ..., 0, 0, 1],\n",
       "       [0, 0, 0, ..., 0, 0, 1],\n",
       "       ...,\n",
       "       [0, 0, 0, ..., 0, 0, 1],\n",
       "       [0, 0, 0, ..., 0, 0, 1],\n",
       "       [0, 0, 0, ..., 0, 0, 1]])"
      ]
     },
     "execution_count": 28,
     "metadata": {},
     "output_type": "execute_result"
    }
   ],
   "source": [
    "predicted_labels"
   ]
  },
  {
   "cell_type": "code",
   "execution_count": 29,
   "id": "e4f07ec2",
   "metadata": {},
   "outputs": [
    {
     "data": {
      "text/plain": [
       "array([[ -6.82002093,  -4.81360562,  -6.30796503, ...,  -4.6451281 ,\n",
       "         -4.55267238,   4.6451281 ],\n",
       "       [ -8.77402947, -12.49628157,  -9.75750842, ..., -11.86022226,\n",
       "         -7.40229346,  11.86022226],\n",
       "       [ -7.39199528,  -4.36360153,  -7.10166905, ...,  -1.68840236,\n",
       "         -3.4334762 ,   1.68840236],\n",
       "       ...,\n",
       "       [ -6.55861823,  -1.39595678,  -7.15586499, ...,  -2.16619902,\n",
       "         -5.52704806,   2.16619902],\n",
       "       [ -6.54859712,  -1.95795813,  -6.41868389, ...,  -1.95398777,\n",
       "         -5.14225956,   1.95398777],\n",
       "       [ -6.9577547 ,  -6.21001588,  -6.55256488, ...,  -4.18872881,\n",
       "         -4.08343578,   4.18872881]])"
      ]
     },
     "execution_count": 29,
     "metadata": {},
     "output_type": "execute_result"
    }
   ],
   "source": [
    "predicted_scores"
   ]
  },
  {
   "cell_type": "markdown",
   "id": "c0dcecec",
   "metadata": {},
   "source": [
    "#### Get inverse transform for predicted labels and test labels"
   ]
  },
  {
   "cell_type": "code",
   "execution_count": 30,
   "id": "d32ac82d",
   "metadata": {},
   "outputs": [],
   "source": [
    "pred_inversed = mlb.inverse_transform(predicted_labels)\n",
    "y_test_inversed = mlb.inverse_transform(y_test)"
   ]
  },
  {
   "cell_type": "code",
   "execution_count": 31,
   "id": "2c5a9642",
   "metadata": {},
   "outputs": [
    {
     "data": {
      "text/plain": [
       "[('35', 'Aries', 'Technology', 'male'),\n",
       " ('35', 'Aries', 'Technology', 'male'),\n",
       " ('male',),\n",
       " ('35', 'Aries', 'Technology', 'male'),\n",
       " ('35', 'Aries', 'Technology', 'male')]"
      ]
     },
     "execution_count": 31,
     "metadata": {},
     "output_type": "execute_result"
    }
   ],
   "source": [
    "(pred_inversed[:5])"
   ]
  },
  {
   "cell_type": "code",
   "execution_count": 32,
   "id": "93e02d34",
   "metadata": {},
   "outputs": [
    {
     "data": {
      "text/plain": [
       "[('35', 'Aries', 'Technology', 'male'),\n",
       " ('35', 'Aries', 'Technology', 'male'),\n",
       " ('17', 'Sagittarius', 'Student', 'male'),\n",
       " ('35', 'Aries', 'Technology', 'male'),\n",
       " ('35', 'Aries', 'Technology', 'male')]"
      ]
     },
     "execution_count": 32,
     "metadata": {},
     "output_type": "execute_result"
    }
   ],
   "source": [
    "y_test_inversed[:5]"
   ]
  },
  {
   "cell_type": "markdown",
   "id": "323051a4",
   "metadata": {},
   "source": [
    "### a. Print the following\n",
    "- i. Accuracy score\n",
    "- ii. F1 score\n",
    "- iii. Average precision score\n",
    "- iv. Average recall score"
   ]
  },
  {
   "cell_type": "code",
   "execution_count": 33,
   "id": "7b1f8f42",
   "metadata": {},
   "outputs": [],
   "source": [
    "def print_evaluation_scores(y_val, predicted):\n",
    "    print('Accuracy score: ', accuracy_score(y_val, predicted))\n",
    "    print('F1 score: ', f1_score(y_val, predicted, average='micro'))\n",
    "    print('Average precision score: ', average_precision_score(y_val, predicted, average='micro'))\n",
    "    print('Average recall score: ', recall_score(y_val, predicted, average='micro'))"
   ]
  },
  {
   "cell_type": "code",
   "execution_count": 34,
   "id": "5a84bf8c",
   "metadata": {},
   "outputs": [
    {
     "name": "stdout",
     "output_type": "stream",
     "text": [
      "Bag-of-words\n",
      "Accuracy score:  0.6471428571428571\n",
      "F1 score:  0.7998446903513882\n",
      "Average precision score:  0.6671420943555029\n",
      "Average recall score:  0.7357142857142858\n"
     ]
    }
   ],
   "source": [
    "print('Bag-of-words')\n",
    "print_evaluation_scores(y_test, predicted_labels)"
   ]
  },
  {
   "cell_type": "markdown",
   "id": "0c33cc8b",
   "metadata": {},
   "source": [
    "### 10. Print true label and predicted label for any five examples "
   ]
  },
  {
   "cell_type": "code",
   "execution_count": 35,
   "id": "05d9bec7",
   "metadata": {},
   "outputs": [
    {
     "name": "stdout",
     "output_type": "stream",
     "text": [
      "Title:\tread whole story ben bizarre find sites\n",
      "True labels:\t35,Aries,Technology,male\n",
      "Predicted labels:\t35,Aries,Technology,male\n",
      "\n",
      "\n",
      "Title:\tbill would allow immunity liability companies make faulty antiterrorism devices technology would make difficult sue companies make smallpox vaccinations vaccines cause illness one last minute addition representative dick armey republican texas inserted provision apparently intended protect eli lilly pharmaceutical giant lawsuits thimerosal mercury based vaccine preservative parents contend caused autism children full article ny times house approves domestic security bill david firestone ashington nov house hurriedly approved revised domestic security bill tonight reflect new agreement white house reducing worker protections brushing aside democratic objections republican leaders added several provisions benefiting businesses republican interests bill approved would reverse earlier measure allow american companies moved offshore order evade taxes contract homeland security department would also extend protection liability suits airline screening companies many businesses contract department adds similar provision protecting makers smallpox vaccines democrats voted bill many raising objections new provisions altering civil service rules house voted along party lines create independent commission investigate sept attacks several members parties two chambers said would try include commission intelligence spending bill still passed republican house leaders said commission needed planning drawing complaints relatives attack victims trying hide failures might prevented attacks working conclude year legislative business week end house also passed stopgap spending measure keep government operating january many members parties hoped house would pass least pending appropriations bills government uses keep operating house leaders said would take bills new congress convened next year expected republican house members elected representative tom delay texas formerly majority whip new post majority leader next session democratic house members scheduled conduct leadership elections thursday likely choose representative nancy pelosi california minority whip leader morning however new candidate job emerged demonstrating continuing disagreements among democrats respond losses last week elections representative marcy kaptur ohio said would run position draw votes members object ms pelosi emphasis fund raising never raise money republicans never said ms kaptur known opposition free trade measures federal funding abortions must elevate non money wing democratic party create populist symbols convey message ms kaptur joins harold e ford jr tennessee contesting democratic leadership election ms pelosi claims already sufficient support win senate republicans chose trent lott mississippi majority leader next term along senator mitch mcconnell kentucky majority whip senator jon kyl arizona third ranking job leading republican policy committee mr lott said today election republicans would focus national economic security mentioning specifically prescription drug program low income older people making individual retirement accounts easier use senate democrats also held leadership elections today unanimously choosing senator tom daschle south dakota chairman caucus along senators harry reid nevada barbara mikulski maryland positions mr daschle minority leader next senate mr reid minority whip senators also voted block annual pay raise would increase salaries percent next year passage energy bill deferred next year continuing partisan disagreements regulation conservation senate began lengthier process approving domestic security bill expected pass early friday senators showed remained closely divided bill deciding drop democratic version bill closely watched test vote new version bill enough votes passage many democrats remain upset president bush virtually entire plan cut back civil service protections workers making easier fire transfer many democrats chambers furious today read fine print new version bill found republicans inserted provisions discussed six months debate antiterrorism department cut senate bill new language example allows administration reorganize department created differing senate republican version would require congressional approval reorganization revises provision passed july prohibited contracts offshore tax evading companies allowing department waive ban name saving american jobs bill would allow immunity liability companies make faulty antiterrorism devices technology would make difficult sue companies make smallpox vaccinations vaccines cause illness one last minute addition representative dick armey republican texas inserted provision apparently intended protect eli lilly pharmaceutical giant lawsuits thimerosal mercury based vaccine preservative parents contend caused autism children really quite surprised would put fine print provisions never saw versions never even went committees said representative henry waxman california ranking democrat house government reform committee republicans like representative william thornberry texas said additions minor paled next importance creating department protect nation safety\n",
      "True labels:\t35,Aries,Technology,male\n",
      "Predicted labels:\t35,Aries,Technology,male\n",
      "\n",
      "\n",
      "Title:\tdvd year never got around watching last night well technically early nbsp morning probably going movie watch often others galaxyquest mummy returns etc one best non action saddest movies seen long time seen manage sit something stuff blow every seconds definitely go rent cpl starts today expect post tomorrow deal experiences\n",
      "True labels:\t17,Sagittarius,Student,male\n",
      "Predicted labels:\tmale\n",
      "\n",
      "\n",
      "Title:\tthought octality theory\n",
      "True labels:\t35,Aries,Technology,male\n",
      "Predicted labels:\t35,Aries,Technology,male\n",
      "\n",
      "\n",
      "Title:\tmeant boards silly\n",
      "True labels:\t35,Aries,Technology,male\n",
      "Predicted labels:\t35,Aries,Technology,male\n",
      "\n",
      "\n"
     ]
    }
   ],
   "source": [
    "for i in range(5):\n",
    "    print('Title:\\t{}\\nTrue labels:\\t{}\\nPredicted labels:\\t{}\\n\\n'.format(\n",
    "        X_test[i],\n",
    "        ','.join(y_test_inversed[i]),\n",
    "        ','.join(pred_inversed[i])\n",
    "    ))"
   ]
  },
  {
   "cell_type": "code",
   "execution_count": null,
   "id": "6d59d97c",
   "metadata": {},
   "outputs": [],
   "source": []
  }
 ],
 "metadata": {
  "kernelspec": {
   "display_name": "Python 3",
   "language": "python",
   "name": "python3"
  },
  "language_info": {
   "codemirror_mode": {
    "name": "ipython",
    "version": 3
   },
   "file_extension": ".py",
   "mimetype": "text/x-python",
   "name": "python",
   "nbconvert_exporter": "python",
   "pygments_lexer": "ipython3",
   "version": "3.8.8"
  }
 },
 "nbformat": 4,
 "nbformat_minor": 5
}
